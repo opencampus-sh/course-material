{
  "nbformat": 4,
  "nbformat_minor": 0,
  "metadata": {
    "colab": {
      "provenance": []
    },
    "kernelspec": {
      "name": "python3",
      "display_name": "Python 3"
    },
    "language_info": {
      "name": "python"
    }
  },
  "cells": [
    {
      "cell_type": "markdown",
      "source": [
        "# Assignment Week 8 - Time Series Forecasting\n",
        "\n",
        "In this week's assignment, you'll apply various neural network architectures to perform time series forecasting using the [Jena Climate Dataset](https://www.bgc-jena.mpg.de/wetter/) from the last assignment. The main objectives are:\n",
        "\n",
        "- Develop univariate time series forecasting models using the dataset from last week's assignment\n",
        "- (Optional) Extend your model to handle multivariate time series forecasting by using the engineered features from the [last assignment]().\n",
        "\n",
        "If you have additional time and interest beyond your regular coursework and projects, consider taking on the more advanced challenge of performing multivariate time series forecasting."
      ],
      "metadata": {
        "id": "cH4kGaAmwj0o"
      }
    },
    {
      "cell_type": "markdown",
      "source": [
        "## Task 1: Preparing the dataset\n",
        "\n",
        "1. Select one weather variable (e.g., temperature, humidity, or wind speed) from the dataset used in Assignment 7 as your target variable for forecasting.\n",
        "2. Choose two different neural network architectures from those covered in the course videos.\n",
        "3. Prepare the dataset(s) for these two model architectures so you can train the models using the dataset(s) in task 2. Especially perform the following subtasks:\n",
        "  - Split the dataset into train/validation/test splits\n",
        "  - Choose and implement a reasonable window size"
      ],
      "metadata": {
        "id": "MAl2n2XYwrEV"
      }
    },
    {
      "cell_type": "code",
      "execution_count": null,
      "metadata": {
        "id": "KnJKD3Ilwh6q"
      },
      "outputs": [],
      "source": [
        "### YOUR CODE GOES HERE ###"
      ]
    },
    {
      "cell_type": "markdown",
      "source": [
        "## Task 2: Training the models\n",
        "\n",
        "1. Implement the chosen model architectures and train each model architecture with 3 different hyperparameter combinations (e.g. number of layers, number of neurons, learning rate, etc.).\n",
        "2. Analyze the impact the hyperparameters on the model performance and compare the results of your training runs with each other."
      ],
      "metadata": {
        "id": "gAF4vjhAwxzz"
      }
    },
    {
      "cell_type": "code",
      "source": [
        "### YOUR CODE FOR MODEL ARCHITECTURE 1 GOES HERE ###"
      ],
      "metadata": {
        "id": "zPjsYcGgykpV"
      },
      "execution_count": null,
      "outputs": []
    },
    {
      "cell_type": "code",
      "source": [
        "### YOUR CODE FOR MODEL ARCHITECTURE 2 GOES HERE ###"
      ],
      "metadata": {
        "id": "RzqxqfPyt6sZ"
      },
      "execution_count": null,
      "outputs": []
    }
  ]
}