{
 "cells": [
  {
   "cell_type": "markdown",
   "metadata": {},
   "source": [
    "# Housing Price Prediction using a Neural Network\n",
    "\n",
    "## Objective\n",
    "In this exercise, you will:\n",
    "1. Create a synthetic dataset for housing prices based on a linear equation.\n",
    "2. Build and train a simple neural network with one neuron to predict housing prices.\n",
    "\n",
    "---\n",
    "\n",
    "## Step 1: Import Libraries\n",
    "Let's start by importing the necessary libraries."
   ]
  },
  {
   "cell_type": "code",
   "execution_count": null,
   "metadata": {},
   "outputs": [],
   "source": [
    "import numpy as np\n",
    "import pandas as pd\n",
    "import matplotlib.pyplot as plt\n",
    "import tensorflow as tf"
   ]
  },
  {
   "cell_type": "markdown",
   "metadata": {},
   "source": [
    "---\n",
    "\n",
    "## Step 2: Create a Synthetic Dataset\n",
    "We will create a dataset for housing prices that follows the equation\n",
    "\n",
    "$\\text{price}$ = $\\text{number of bedrooms}$ $\\times  x$ + $\\text{base price}$\n"
   ]
  },
  {
   "cell_type": "code",
   "execution_count": null,
   "metadata": {},
   "outputs": [],
   "source": [
    "# Number of samples\n",
    "n_samples = 1000\n",
    "\n",
    "# Generate random number of bedrooms between 1 and 5\n",
    "bedrooms = np.random.randint(1, 6, n_samples)\n",
    "\n",
    "# Constants for the equation\n",
    "x = 0.5  # The price added per bedroom in onehundred thousands\n",
    "base_price = 1  # Base price of a house in onehundred thousands\n",
    "\n",
    "# Generate housing prices based on the equation\n",
    "prices = bedrooms * x + base_price\n",
    "\n",
    "# Create a DataFrame\n",
    "df = pd.DataFrame({'bedrooms': bedrooms, 'price': prices})\n",
    "\n",
    "# Show the first few rows\n",
    "df.head()"
   ]
  },
  {
   "cell_type": "markdown",
   "metadata": {},
   "source": [
    "---\n",
    "\n",
    "## Step 3: Visualize the Data\n",
    "Plot the data to visualize the relationship between the number of bedrooms and the price.\n"
   ]
  },
  {
   "cell_type": "code",
   "execution_count": null,
   "metadata": {},
   "outputs": [],
   "source": [
    "plt.scatter(df['bedrooms'], df['price'])\n",
    "plt.xlabel('Number of Bedrooms')\n",
    "plt.ylabel('Price')\n",
    "plt.title('Bedrooms vs Price')\n",
    "plt.show()\n"
   ]
  },
  {
   "cell_type": "markdown",
   "metadata": {},
   "source": [
    "---\n",
    "\n",
    "## Step 4: Preprocess the Data\n",
    "Split the data into features (`X`) and labels (`y`), and then into training and testing sets.\n"
   ]
  },
  {
   "cell_type": "code",
   "execution_count": null,
   "metadata": {},
   "outputs": [],
   "source": [
    "# Features and Labels\n",
    "X = df[['bedrooms']]\n",
    "y = df['price']\n",
    "\n",
    "# TODO Split the data\n",
    "# YOUR CODE HERE\n"
   ]
  },
  {
   "cell_type": "markdown",
   "metadata": {},
   "source": [
    "---\n",
    "\n",
    "## Step 5: Build a Neural Network\n",
    "Build a simple neural network with one neuron to predict the house prices. \n",
    "Pick an optimizer and a loss function that suits this problem.\n"
   ]
  },
  {
   "cell_type": "code",
   "execution_count": null,
   "metadata": {},
   "outputs": [],
   "source": [
    "# TODO Create the model\n",
    "\n",
    "\n",
    "# TODO Compile the model\n",
    "\n",
    "\n",
    "# TODO print a Summary of the model\n"
   ]
  },
  {
   "cell_type": "markdown",
   "metadata": {},
   "source": [
    "---\n",
    "\n",
    "## Step 6: Train the Model\n",
    "Train the model using the training data.\n"
   ]
  },
  {
   "cell_type": "code",
   "execution_count": null,
   "metadata": {},
   "outputs": [],
   "source": [
    "# TODO Train the model"
   ]
  },
  {
   "cell_type": "markdown",
   "metadata": {},
   "source": [
    "---\n",
    "\n",
    "## Step 7: Evaluate the Model\n",
    "Evaluate the model using the test data and plot its prediction.\n"
   ]
  },
  {
   "cell_type": "code",
   "execution_count": null,
   "metadata": {},
   "outputs": [],
   "source": [
    "# TODO Evaluate the model using the model.evaluate() function\n",
    "\n",
    "\n",
    "# TODO Make predictions\n",
    "\n",
    "\n",
    "# TODO Plot real vs predicted prices (hint: you can use the plotting code from above as a start)\n",
    "\n"
   ]
  },
  {
   "cell_type": "markdown",
   "metadata": {},
   "source": [
    "# Step 8: Optional\n",
    "Go back to the start and experiment what happens if instead of representing a price of a house costing onehundred thousand by a 1 we use the raw number 100,000 instead. \n",
    "\n",
    "Try to explain what happened and why."
   ]
  },
  {
   "cell_type": "code",
   "execution_count": null,
   "metadata": {},
   "outputs": [],
   "source": []
  }
 ],
 "metadata": {
  "kernelspec": {
   "display_name": ".ve_tensorflow_course",
   "language": "python",
   "name": "python3"
  },
  "language_info": {
   "codemirror_mode": {
    "name": "ipython",
    "version": 3
   },
   "file_extension": ".py",
   "mimetype": "text/x-python",
   "name": "python",
   "nbconvert_exporter": "python",
   "pygments_lexer": "ipython3",
   "version": "3.10.10"
  },
  "orig_nbformat": 4
 },
 "nbformat": 4,
 "nbformat_minor": 2
}
