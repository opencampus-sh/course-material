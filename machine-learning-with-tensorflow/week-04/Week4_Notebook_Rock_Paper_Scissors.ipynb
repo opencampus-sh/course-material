{
 "cells": [
  {
   "cell_type": "markdown",
   "metadata": {},
   "source": [
    "# Task 1\n",
    "\n",
    "Download the Rock-Paper-Scissors dataset from kaggle.com.\n",
    "https://www.kaggle.com/datasets/drgfreeman/rockpaperscissors\n",
    "\n",
    "# Task 2\n",
    "\n",
    "Place the `rock-paper-scissors` folder in your Colab-Environment. (On the same level as this notebook.) \n",
    "\n",
    "```\n",
    "|\n",
    "|-- rock-paper-scissors\n",
    "|   |-- rock\n",
    "|   |-- paper\n",
    "|   `-- scissors\n",
    "`-- Assignment_CNN-Part-2.ipynb\n",
    "```\n",
    "\n",
    "# Task 3\n",
    "\n",
    "Set up a data generator and use it to build a training and a test dataset. Assign 20% of the data to your test dataset. This can be done by using the `flow_from_directory` function of the data generator.  Checkout the documentation for details: \n",
    "https://www.tensorflow.org/api_docs/python/tf/keras/preprocessing/image/ImageDataGenerator\n",
    "\n",
    "Tips:\n",
    "- Make sure to rescale the pixel values.\n",
    "- Make sure the dataset is set up for multi-class classification.\n",
    "\n",
    "# Task 4\n",
    "\n",
    "Build a model and train it. Your goal is to reach an validation accuracy of at least 90%. \n",
    "Try different model architectures, batch sizes, learning-rates and data augmentation techniques. Your only constraint is to train the model for just 3 epochs!\n",
    "\n",
    "Don't worry, if you fail to reach the 90% threshold. ;)\n",
    "\n",
    "Tips:\n",
    "- Ensure your model output propability scores for each class. (softmax) \n",
    "- Confirm you are using a loss function suitable for multi class classification.\n",
    "- "
   ]
  },
  {
   "cell_type": "code",
   "execution_count": 94,
   "metadata": {},
   "outputs": [],
   "source": [
    "import tensorflow as tf\n",
    "from keras.preprocessing.image import ImageDataGenerator\n",
    "import matplotlib.pyplot as plt"
   ]
  },
  {
   "cell_type": "code",
   "execution_count": 95,
   "metadata": {},
   "outputs": [],
   "source": [
    "DATA_DIR = \"rock-paper-scissors\"\n",
    "BATCH_SIZE = 64\n",
    "IMAGE_HEIGHT = 200\n",
    "IMAGE_WIDTH = 300"
   ]
  },
  {
   "cell_type": "code",
   "execution_count": null,
   "metadata": {},
   "outputs": [],
   "source": [
    "# Set up the data generator and the train and test sets\n",
    "# Start code here ==>\n",
    "\n",
    "data_generator = \n",
    "\n",
    "train_images = \n",
    "\n",
    "test_images = \n",
    "\n",
    "# End code here <==\n",
    "\n",
    "# Expected output: (Your numbers of images might be different.)\n",
    "# Found 1751 images belonging to 3 classes.\n",
    "# Found 437 images belonging to 3 classes."
   ]
  },
  {
   "cell_type": "code",
   "execution_count": 97,
   "metadata": {},
   "outputs": [],
   "source": [
    "# Build the model\n",
    "# Start code here ==>\n",
    "\n",
    "model = \n",
    "\n",
    "# End code here <=="
   ]
  },
  {
   "cell_type": "code",
   "execution_count": null,
   "metadata": {},
   "outputs": [],
   "source": [
    "# Compile the model and fit it\n",
    "# Start code here ==>\n",
    "\n",
    "model.compile(,metrics=['accuracy'])\n",
    "\n",
    "history = model.fit(,epochs=3)\n",
    "\n",
    "# End code here <=="
   ]
  },
  {
   "cell_type": "code",
   "execution_count": null,
   "metadata": {},
   "outputs": [],
   "source": [
    "plt.plot(history.history['accuracy'], label='accuracy')\n",
    "plt.plot(history.history['val_accuracy'], label = 'val_accuracy')\n",
    "plt.xlabel('Epoch')\n",
    "plt.ylabel('Accuracy')\n",
    "plt.ylim([0.5, 1])\n",
    "plt.legend(loc='lower right')\n",
    "\n",
    "test_loss, test_acc = model.evaluate(test_images, verbose=2)"
   ]
  }
 ],
 "metadata": {
  "kernelspec": {
   "display_name": "toolbox",
   "language": "python",
   "name": "python3"
  },
  "language_info": {
   "codemirror_mode": {
    "name": "ipython",
    "version": 3
   },
   "file_extension": ".py",
   "mimetype": "text/x-python",
   "name": "python",
   "nbconvert_exporter": "python",
   "pygments_lexer": "ipython3",
   "version": "3.10.4"
  }
 },
 "nbformat": 4,
 "nbformat_minor": 2
}
