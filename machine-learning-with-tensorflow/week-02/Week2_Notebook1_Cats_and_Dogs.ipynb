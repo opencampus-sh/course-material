{
 "cells": [
  {
   "cell_type": "markdown",
   "metadata": {},
   "source": [
    "# Image Preprocessing and Binary Classification with Keras\n",
    "\n",
    "## Objective\n",
    "In this week's exercise, you will:\n",
    "1. Learn how to image preprocessing in keras.\n",
    "2. Build and train a multilayer neural network for binary classification on a real-world dataset of cats and dogs.\n",
    "\n",
    "---\n",
    "\n",
    "## Step 1: Import Libraries\n",
    "Let's start by importing the necessary libraries.\n"
   ]
  },
  {
   "cell_type": "code",
   "execution_count": null,
   "metadata": {},
   "outputs": [],
   "source": [
    "import numpy as np\n",
    "import matplotlib.pyplot as plt\n",
    "import tensorflow as tf\n",
    "from tensorflow.keras.preprocessing.image import ImageDataGenerator\n",
    "from tensorflow.keras.models import Sequential\n",
    "from tensorflow.keras.layers import Conv2D, MaxPooling2D, Flatten, Dense, Dropout\n"
   ]
  },
  {
   "cell_type": "markdown",
   "metadata": {},
   "source": [
    "---\n",
    "\n",
    "## Step 2: Load and Preprocess the Data\n",
    "We will use the Keras `ImageDataGenerator` for image augmentation and preprocessing.\n",
    "First, unzip the uploaded dataset.\n"
   ]
  },
  {
   "cell_type": "code",
   "execution_count": null,
   "metadata": {},
   "outputs": [],
   "source": [
    "!unzip -q cats_and_dogs.zip"
   ]
  },
  {
   "cell_type": "markdown",
   "metadata": {},
   "source": [
    "## Step 3: Learn about undersampling and implement it\n",
    "Research online what undersampling and random undersampling is. It is a very powerful technique used often in machine Learning. Find out when it is used and undersample your dataset using \"random undersampling\""
   ]
  },
  {
   "cell_type": "code",
   "execution_count": null,
   "metadata": {},
   "outputs": [],
   "source": [
    "# undersample your dataset here"
   ]
  },
  {
   "cell_type": "markdown",
   "metadata": {},
   "source": [
    "---\n",
    "\n",
    "## Step 4: Set Up ImageDataGenerator (or well more specifically the new version)\n",
    "Were Sorry - the videos from the coursera course are sometimes not the most up to date. In this case the 'ImageDataGenerator' function is deprecated (look here https://www.tensorflow.org/api_docs/python/tf/keras/preprocessing/image/ImageDataGenerator) and will be removed in the future versions. The concept behind the new reccomended function is very similar though.\n",
    "The new reccomendation is loading images with tf.keras.utils.image_dataset_from_directory and transforming the output tf.data.Dataset with preprocessing layers.\n",
    "\n",
    "You may use Chat GPT for this task and you can also check the following tutorials <br>\n",
    "https://www.tensorflow.org/tutorials/load_data/images <br>\n",
    "https://www.tensorflow.org/tutorials/load_data/images <br>\n",
    "https://www.tensorflow.org/guide/keras/preprocessing_layers <br>"
   ]
  },
  {
   "cell_type": "code",
   "execution_count": null,
   "metadata": {},
   "outputs": [],
   "source": [
    "# TODO create a dataset using the recommended methods"
   ]
  },
  {
   "cell_type": "markdown",
   "metadata": {},
   "source": [
    "---\n",
    "\n",
    "## Step 5: Build a Multilayer Neural Network\n",
    "Now, let's build a multilayer neural network for binary classification.\n"
   ]
  },
  {
   "cell_type": "code",
   "execution_count": null,
   "metadata": {},
   "outputs": [],
   "source": [
    "# TODO build a model\n",
    "\n",
    "# TODO compile the model\n"
   ]
  },
  {
   "cell_type": "markdown",
   "metadata": {},
   "source": [
    "---\n",
    "\n",
    "## Step 6: Train the Model\n",
    "Train the model using the Dataset you created\n"
   ]
  },
  {
   "cell_type": "code",
   "execution_count": null,
   "metadata": {},
   "outputs": [],
   "source": []
  },
  {
   "cell_type": "markdown",
   "metadata": {},
   "source": [
    "---\n",
    "\n",
    "## Step 7: Evaluate the Model\n",
    "After training, you may upload some test images to evaluate your model.\n"
   ]
  },
  {
   "cell_type": "code",
   "execution_count": null,
   "metadata": {},
   "outputs": [],
   "source": [
    "from tensorflow.keras.preprocessing import image\n",
    "import numpy as np\n",
    "from google.colab import files\n",
    "\n",
    "def load_and_predict(model):\n",
    "    uploaded_files = files.upload()\n",
    "\n",
    "    for fn in uploaded_files.keys():\n",
    "        path = '/content/' + fn\n",
    "        img = image.load_img(path, target_size=(150, 150))\n",
    "        \n",
    "        x = image.img_to_array(img)\n",
    "        x = np.expand_dims(x, axis=0) / 255.0\n",
    "        \n",
    "        classes = model.predict(x)\n",
    "        result = \"a dog\" if classes[0] > 0.5 else \"a cat\"\n",
    "        \n",
    "        print(f'The model predicts that the image is of {result}')\n",
    "\n",
    "# Call the function to upload images and get predictions\n",
    "load_and_predict(model)"
   ]
  }
 ],
 "metadata": {
  "kernelspec": {
   "display_name": ".ve_tensorflow_course",
   "language": "python",
   "name": "python3"
  },
  "language_info": {
   "codemirror_mode": {
    "name": "ipython",
    "version": 3
   },
   "file_extension": ".py",
   "mimetype": "text/x-python",
   "name": "python",
   "nbconvert_exporter": "python",
   "pygments_lexer": "ipython3",
   "version": "3.10.10"
  }
 },
 "nbformat": 4,
 "nbformat_minor": 2
}
