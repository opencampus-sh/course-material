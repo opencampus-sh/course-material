{
 "cells": [
  {
   "cell_type": "markdown",
   "metadata": {
    "id": "rVQTPnv_-0tN"
   },
   "source": [
    "# Assignment Week 7 - Time Series Analysis and Data Preprocessing"
   ]
  },
  {
   "cell_type": "markdown",
   "metadata": {
    "id": "9VOLJ_NZ5iIz"
   },
   "source": [
    "When working with time series data having an accurate and complete dataset is essential for the results of machine learning models trained on this data.\n",
    "\n",
    "As the dataset is such an important part of training time series machine learning models, e.g. for time series forecasting, this assignment will focus on analyzing and preparing a time series dataset.\n",
    "\n",
    "A common way to work with time series data is using the Python library `Pandas` that offers a lot of helpful methods to analyze and preprocess the dataset and is therefore recommended to be used in this assignment. Additionally common Large Language Models are very good in assisting while writing `Pandas` code.\n",
    "\n",
    "There exist alternatives such as `Polars` that are faster but in some cases not as intuitive and with less available resources in the internet."
   ]
  },
  {
   "cell_type": "markdown",
   "metadata": {
    "id": "gNz6G8Zq7LWA"
   },
   "source": [
    "## Task 1 - Downloading the Dataset\n",
    "\n",
    "We will be using a subset of the [Jena Climate dataset](https://www.bgc-jena.mpg.de/wetter/) that contains weather measurements from 2009 to 2016 for different weather factors such as temperature, humidity, wind speed, etc in a 10 minute resolution.\n",
    "\n",
    "Download and unzip the dataset using the provided commands (or manually if your local machine can\"t execute these shell commands)."
   ]
  },
  {
   "cell_type": "code",
   "execution_count": null,
   "metadata": {
    "id": "J-5LjtXP2SGW"
   },
   "outputs": [],
   "source": [
    "!wget https://storage.googleapis.com/tensorflow/tf-keras-datasets/jena_climate_2009_2016.csv.zip"
   ]
  },
  {
   "cell_type": "code",
   "execution_count": null,
   "metadata": {
    "id": "K8VGhKPD2acR"
   },
   "outputs": [],
   "source": [
    "!unzip jena_climate_2009_2016.csv.zip"
   ]
  },
  {
   "cell_type": "markdown",
   "metadata": {
    "id": "i4WERJH__nDp"
   },
   "source": [
    "## Task 2 - Data Analysis and Cleaning\n",
    "\n",
    "1. Load the CSV file to a Pandas DataFrame.\n",
    "2. Analyze aspects of the time series dataset using the `df.info()`and `df.describe()` methods. Can you identify missing values? Are there any outliers or incorrect values? What other interesting aspects can you identify?\n",
    "3. If you identify incorrect values find ways to correct these values as best as possible.\n",
    "4. Complete the given Python function to identify missing timestamps in the dataset.\n",
    "5. Add potentially missing timestamps to the DataFrame (don't forget to sort by datetime!) and apply a suitable interpolation technique to fill the missing values for the added timestamps.\n",
    "6. Choose 3 weather factor measurements and plot them. Analyze them for aspects like trend, seasonality and noise. (Hint: It might be useful to look at the years individually for every weather factor.)\n"
   ]
  },
  {
   "cell_type": "code",
   "execution_count": null,
   "metadata": {
    "id": "Nh_9fWKa2fe-"
   },
   "outputs": [],
   "source": [
    "import pandas as pd\n",
    "\n",
    "# 1. Load the CSV file to a Pandas DataFrame.\n",
    "df = None # TODO: Read the CSV file to a DataFrame\n",
    "df.head()"
   ]
  },
  {
   "cell_type": "code",
   "execution_count": null,
   "metadata": {
    "id": "TvXw-nwZ5Sj_"
   },
   "outputs": [],
   "source": [
    "# 2. Analyze aspects of the time series dataset using the `df.info()`and `df.describe()` methods. Can you identify missing values? Are there any outliers or incorrect values? What other interesting aspects can you identify?\n",
    "\n",
    "### YOUR CODE GOES HERE ###"
   ]
  },
  {
   "cell_type": "code",
   "execution_count": null,
   "metadata": {
    "id": "LZ9d4iqyDNiW"
   },
   "outputs": [],
   "source": [
    "# 3. If you identify incorrect values find ways to correct these values as best as possible.\n",
    "\n",
    "### YOUR CODE GOES HERE ###"
   ]
  },
  {
   "cell_type": "code",
   "execution_count": null,
   "metadata": {
    "id": "PsLNKmgjLHFe"
   },
   "outputs": [],
   "source": [
    "# Turn the timestamps to datetime format (format=\"mixed\" is required as not all values in \"Date Time\" follow the correct format)\n",
    "# Might take some time because of format=\"mixed\"\n",
    "df[\"Date Time\"] = pd.to_datetime(df[\"Date Time\"], format=\"mixed\")"
   ]
  },
  {
   "cell_type": "code",
   "execution_count": null,
   "metadata": {
    "id": "CcI6QxcH382e"
   },
   "outputs": [],
   "source": [
    "# 4. Complete the given Python function to identify missing timestamps in the dataset.\n",
    "\n",
    "def find_missing_timestamps(df):\n",
    "  ### YOUR CODE STARTS HERE ###\n",
    "\n",
    "  # Define the first and last timestamp of the dataset\n",
    "  start_time = None # TODO: Add the first timestamp of the time series\n",
    "  end_time = None # TODO: Add the last timestamp of the time series\n",
    "\n",
    "  # Generate the complete range of timestamps with a 10-minute frequency\n",
    "  full_timestamp_range = pd.date_range(start=start_time, end=end_time, freq=\"REPLACE WITH A SUITABLE FREQUENCY VALUE\") # TODO: Add frequency value\n",
    "\n",
    "  # Find missing timestamps\n",
    "  existing_timestamps = None # TODO: Get the existing timestamps from the dataset\n",
    "  missing_timestamps = full_timestamp_range.difference(existing_timestamps)\n",
    "\n",
    "  ### YOUR CODE ENDS HERE ###\n",
    "\n",
    "  return missing_timestamps\n",
    "\n",
    "missing_timestamps = find_missing_timestamps(df)\n",
    "missing_timestamps"
   ]
  },
  {
   "cell_type": "code",
   "execution_count": null,
   "metadata": {
    "id": "Iopu6lncDysB"
   },
   "outputs": [],
   "source": [
    "# 5. Add potentially missing timestamps to the DataFrame (don't forget to sort by datetime!) and apply a suitable interpolation technique to fill the missing values for the added timestamps.\n",
    "\n",
    "### YOUR CODE GOES HERE ###"
   ]
  },
  {
   "cell_type": "code",
   "execution_count": null,
   "metadata": {
    "id": "CbuJ42E6ELwU"
   },
   "outputs": [],
   "source": [
    "# 6. Choose 3 weather factor measurements and plot them. Analyze them for aspects like trend, seasonality and noise. (Hint: It might be useful to look at the years individually for every weather factor.)\n",
    "\n",
    "### YOUR CODE GOES HERE ###"
   ]
  },
  {
   "cell_type": "markdown",
   "metadata": {
    "id": "6gmQSci1EctG"
   },
   "source": [
    "## Task 3 - Basic Feature Engineering\n",
    "\n",
    "Time series data often contains valuable information based on the use case that can be engineered from the existing dataset. An example would be features such as day of the week, weekends, week of the year, etc. In order to practice these possible feature engineering steps perform the following tasks:\n",
    "\n",
    "1. Using the `Date Time` column create features for the day, month, year, hour and minute.\n",
    "2. Based on these new features also create additional features such as a binary indicator if it is weekend or not (alternativly if it is weekday or not), what day of the week and what week of the year it is.\n",
    "\n",
    "For some features additional feature engineering could be beneficial. Cyclical features such as the day of the week, the month or the week of the year could benefit from a representation where the value representing \"Monday\" is closer to the value representing \"Sunday\" than it is when simply encoding the days like this for example:\n",
    "\n",
    "- Monday: 0\n",
    "- Tuesday: 1\n",
    "- Wedneyday: 2\n",
    "- Thursday: 3\n",
    "- Friday: 4\n",
    "- Saturday: 5\n",
    "- Sunday: 6\n",
    "\n",
    "To address the cyclicity of such features cyclical encoding with sine/cosine transformation can be used as one possible approach.\n",
    "\n",
    "3. Research how cyclical encoding of cyclical features can be done and implement it for all features in the dataset where you find it suitable. Give a reason for choosing exactly the features you chose.\n",
    "\n",
    "(One explanation can be found in this blog post: https://developer.nvidia.com/blog/three-approaches-to-encoding-time-information-as-features-for-ml-models/)\n"
   ]
  },
  {
   "cell_type": "code",
   "execution_count": null,
   "metadata": {
    "id": "uBmsd0VkRWL4"
   },
   "outputs": [],
   "source": [
    "# 1. Using the `Date Time` column create features for the day, month, year, hour and minute.\n",
    "\n",
    "### YOUR CODE STARTS HERE ###\n",
    "\n",
    "df[\"Day\"] = None # TODO: Get the day of the timestamp\n",
    "df[\"Month\"] = None # TODO: Get the month of the timestamp\n",
    "df[\"Year\"] = None # TODO: Get the year of the timestamp\n",
    "df[\"Hour\"] = None # TODO: Get the hour of the timestamp\n",
    "df[\"Minute\"] = None # TODO: Get the minute of the timestamp\n",
    "\n",
    "### YOUR CODE ENDS HERE ###"
   ]
  },
  {
   "cell_type": "code",
   "execution_count": null,
   "metadata": {
    "id": "9fW1i8J8R0oe"
   },
   "outputs": [],
   "source": [
    "# 2. Based on these new features also create additional features such as a binary indicator if it is weekend or not (alternativly if it is weekday or not), what day of the week and what week of the year it is.\n",
    "\n",
    "### YOUR CODE STARTS HERE ###\n",
    "\n",
    "df[\"Day of the Week\"] = None # TODO: Get the day of the week of the timestamp\n",
    "df[\"Weekend\"] = None # TODO: Create a binary feature indicating if it is weekend of not (1 if yes, 0 if no)\n",
    "df[\"Week of the Year\"] = None # Get the week of the year of the timestamp\n",
    "# Additional features if something comes to your mind\n",
    "\n",
    "### YOUR CODE ENDS HERE ###"
   ]
  },
  {
   "cell_type": "code",
   "execution_count": null,
   "metadata": {
    "id": "f0L74gGfR-u8"
   },
   "outputs": [],
   "source": [
    "# 3. Research how cyclical encoding of cyclical features can be done and implement it for all features in the dataset where you find it suitable. Give a reason for choosing exactly the features you chose.\n",
    "\n",
    "### YOUR CODE GOES HERE ###"
   ]
  }
 ],
 "metadata": {
  "colab": {
   "provenance": []
  },
  "kernelspec": {
   "display_name": "Python 3",
   "name": "python3"
  },
  "language_info": {
   "name": "python"
  }
 },
 "nbformat": 4,
 "nbformat_minor": 0
}
